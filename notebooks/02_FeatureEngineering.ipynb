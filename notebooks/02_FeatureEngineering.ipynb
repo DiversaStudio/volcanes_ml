{
 "cells": [
  {
   "cell_type": "code",
   "execution_count": 1,
   "metadata": {},
   "outputs": [],
   "source": [
    "# Import libraries\n",
    "import os\n",
    "import sys\n",
    "import torch\n",
    "import gc\n",
    "import numpy as np\n",
    "from torch.utils.data import Dataset, DataLoader\n",
    "from sklearn.model_selection import train_test_split\n",
    "from sklearn.preprocessing import StandardScaler, MinMaxScaler\n",
    "import matplotlib.pyplot as plt"
   ]
  },
  {
   "cell_type": "code",
   "execution_count": 2,
   "metadata": {},
   "outputs": [],
   "source": [
    "# Set path\n",
    "project_root = os.path.abspath(os.path.join(os.getcwd(), '..'))\n",
    "if project_root not in sys.path:\n",
    "    sys.path.append(project_root)"
   ]
  },
  {
   "cell_type": "code",
   "execution_count": 3,
   "metadata": {},
   "outputs": [],
   "source": [
    "# Import modules\n",
    "from src.data.dataset import ThermalDataset\n",
    "from src.utils.visualization import plot_class_distribution\n",
    "from src.data.dataset import save_large_dataset"
   ]
  },
  {
   "cell_type": "code",
   "execution_count": 5,
   "metadata": {},
   "outputs": [
    {
     "name": "stdout",
     "output_type": "stream",
     "text": [
      "Using device: cuda\n"
     ]
    }
   ],
   "source": [
    "# Set device\n",
    "device = torch.device(\"cuda\" if torch.cuda.is_available() else \"cpu\")\n",
    "print(f\"Using device: {device}\")"
   ]
  },
  {
   "cell_type": "code",
   "execution_count": 6,
   "metadata": {},
   "outputs": [
    {
     "name": "stdout",
     "output_type": "stream",
     "text": [
      "\n",
      "Loading preprocessed dataset...\n"
     ]
    }
   ],
   "source": [
    "# Load preprocessed dataset\n",
    "print(\"\\nLoading preprocessed dataset...\")\n",
    "project_root = os.path.abspath(os.path.join(os.getcwd(), '..'))\n",
    "preprocessed_dataset_path = os.path.join(project_root, 'data', 'processed', 'preprocessed_dataset.pt')\n",
    "preprocessed_dataset = torch.load(preprocessed_dataset_path, weights_only=False)"
   ]
  },
  {
   "cell_type": "code",
   "execution_count": 7,
   "metadata": {},
   "outputs": [
    {
     "name": "stdout",
     "output_type": "stream",
     "text": [
      "\n",
      "Original tensor shapes:\n",
      "Corrected: torch.Size([480, 640, 7024])\n"
     ]
    }
   ],
   "source": [
    "# Print shapes before any operations\n",
    "print(\"\\nOriginal tensor shapes:\")\n",
    "print(f\"Corrected: {preprocessed_dataset['tensors']['corrected'].shape}\")"
   ]
  },
  {
   "cell_type": "code",
   "execution_count": 8,
   "metadata": {},
   "outputs": [
    {
     "name": "stdout",
     "output_type": "stream",
     "text": [
      "\n",
      "Reorganizing tensors...\n",
      "\n",
      "Tensor shapes after permute:\n",
      "Corrected: torch.Size([7024, 480, 640])\n"
     ]
    }
   ],
   "source": [
    "# We need to permute the tensors before splitting\n",
    "print(\"\\nReorganizing tensors...\")\n",
    "preprocessed_dataset['tensors']['corrected'] = preprocessed_dataset['tensors']['corrected'].permute(2, 0, 1)\n",
    "preprocessed_dataset['tensors']['edge'] = preprocessed_dataset['tensors']['edge'].permute(2, 0, 1)\n",
    "for level in preprocessed_dataset['tensors']['threshold'].keys():\n",
    "    preprocessed_dataset['tensors']['threshold'][level] = preprocessed_dataset['tensors']['threshold'][level].permute(2, 0, 1)\n",
    "\n",
    "print(\"\\nTensor shapes after permute:\")\n",
    "print(f\"Corrected: {preprocessed_dataset['tensors']['corrected'].shape}\")"
   ]
  },
  {
   "cell_type": "code",
   "execution_count": 9,
   "metadata": {},
   "outputs": [
    {
     "name": "stdout",
     "output_type": "stream",
     "text": [
      "\n",
      "Total number of samples: 7024\n",
      "\n",
      "Splitting data into train and validation sets...\n",
      "Training indices: 5619, max index: 7022\n",
      "Validation indices: 1405, max index: 7023\n"
     ]
    }
   ],
   "source": [
    "# Now split using the correct dimension\n",
    "n_samples = len(preprocessed_dataset['labels']['numeric_labels'])\n",
    "print(f\"\\nTotal number of samples: {n_samples}\")\n",
    "\n",
    "# Split data\n",
    "print(\"\\nSplitting data into train and validation sets...\")\n",
    "labels = preprocessed_dataset['labels']['numeric_labels']\n",
    "train_idx, val_idx = train_test_split(\n",
    "    range(n_samples), \n",
    "    test_size=0.2, \n",
    "    stratify=labels,\n",
    "    random_state=42\n",
    ")\n",
    "\n",
    "print(f\"Training indices: {len(train_idx)}, max index: {max(train_idx)}\")\n",
    "print(f\"Validation indices: {len(val_idx)}, max index: {max(val_idx)}\")"
   ]
  },
  {
   "cell_type": "code",
   "execution_count": 10,
   "metadata": {},
   "outputs": [],
   "source": [
    "# Create datasets\n",
    "train_dataset = ThermalDataset(preprocessed_dataset, indices=train_idx)\n",
    "val_dataset = ThermalDataset(preprocessed_dataset, indices=val_idx)"
   ]
  },
  {
   "cell_type": "code",
   "execution_count": 11,
   "metadata": {},
   "outputs": [
    {
     "name": "stdout",
     "output_type": "stream",
     "text": [
      "\n",
      "Final dataset splits:\n",
      "Training samples: 5619\n",
      "Validation samples: 1405\n"
     ]
    }
   ],
   "source": [
    "# Print final dataset information\n",
    "print(\"\\nFinal dataset splits:\")\n",
    "print(f\"Training samples: {len(train_dataset)}\")\n",
    "print(f\"Validation samples: {len(val_dataset)}\")"
   ]
  },
  {
   "cell_type": "code",
   "execution_count": 12,
   "metadata": {},
   "outputs": [
    {
     "name": "stdout",
     "output_type": "stream",
     "text": [
      "\n",
      "Saving datasets...\n",
      "\n",
      "Saving train...\n",
      "Saving corrected tensor with 5619 samples...\n",
      "Saving edge tensor with 5619 samples...\n",
      "Saving threshold tensors...\n",
      "Saving threshold tensor 'low' with 5619 samples...\n",
      "Saving threshold tensor 'medium' with 5619 samples...\n",
      "Saving threshold tensor 'high' with 5619 samples...\n",
      "Saving threshold tensor 'very_high' with 5619 samples...\n",
      "Saving labels and metadata with 5619 samples...\n",
      "train saved successfully!\n",
      "\n",
      "Saving val...\n",
      "Saving corrected tensor with 1405 samples...\n",
      "Saving edge tensor with 1405 samples...\n",
      "Saving threshold tensors...\n",
      "Saving threshold tensor 'low' with 1405 samples...\n",
      "Saving threshold tensor 'medium' with 1405 samples...\n",
      "Saving threshold tensor 'high' with 1405 samples...\n",
      "Saving threshold tensor 'very_high' with 1405 samples...\n",
      "Saving labels and metadata with 1405 samples...\n",
      "val saved successfully!\n"
     ]
    },
    {
     "data": {
      "text/plain": [
       "True"
      ]
     },
     "execution_count": 12,
     "metadata": {},
     "output_type": "execute_result"
    }
   ],
   "source": [
    "# Create processed directory\n",
    "processed_dir = os.path.join(project_root, 'data', 'processed')\n",
    "os.makedirs(processed_dir, exist_ok=True)\n",
    "\n",
    "# Save datasets\n",
    "print(\"\\nSaving datasets...\")\n",
    "save_large_dataset(train_dataset, processed_dir, \"train\")\n",
    "save_large_dataset(val_dataset, processed_dir, \"val\")"
   ]
  },
  {
   "cell_type": "code",
   "execution_count": 13,
   "metadata": {},
   "outputs": [],
   "source": [
    "gc.collect()\n",
    "torch.cuda.empty_cache()"
   ]
  },
  {
   "cell_type": "code",
   "execution_count": 14,
   "metadata": {},
   "outputs": [
    {
     "data": {
      "image/png": "[encoded data removed]",
      "text/plain": [
       "<Figure size 1000x500 with 1 Axes>"
      ]
     },
     "metadata": {},
     "output_type": "display_data"
    }
   ],
   "source": [
    "plot_class_distribution(train_dataset, val_dataset)"
   ]
  },
  {
   "cell_type": "code",
   "execution_count": null,
   "metadata": {},
   "outputs": [],
   "source": []
  }
 ],
 "metadata": {
  "kernelspec": {
   "display_name": "volcanesML",
   "language": "python",
   "name": "python3"
  },
  "language_info": {
   "codemirror_mode": {
    "name": "ipython",
    "version": 3
   },
   "file_extension": ".py",
   "mimetype": "text/x-python",
   "name": "python",
   "nbconvert_exporter": "python",
   "pygments_lexer": "ipython3",
   "version": "3.10.9"
  }
 },
 "nbformat": 4,
 "nbformat_minor": 2
}
