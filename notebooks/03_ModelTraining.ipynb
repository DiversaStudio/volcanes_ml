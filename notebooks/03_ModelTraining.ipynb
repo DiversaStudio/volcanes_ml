{
 "cells": [
  {
   "cell_type": "code",
   "execution_count": 16,
   "metadata": {},
   "outputs": [],
   "source": [
    "import os\n",
    "import sys\n",
    "import torch\n",
    "import torch.nn as nn\n",
    "import torch.optim as optim\n",
    "import matplotlib.pyplot as plt\n",
    "import numpy as np\n",
    "from torch.utils.data import DataLoader\n",
    "from torch.optim.lr_scheduler import ReduceLROnPlateau\n",
    "from sklearn.metrics import confusion_matrix, ConfusionMatrixDisplay"
   ]
  },
  {
   "cell_type": "code",
   "execution_count": 3,
   "metadata": {},
   "outputs": [],
   "source": [
    "# Set path\n",
    "project_root = os.path.abspath(os.path.join(os.getcwd(), '..'))\n",
    "if project_root not in sys.path:\n",
    "    sys.path.append(project_root)"
   ]
  },
  {
   "cell_type": "code",
   "execution_count": 4,
   "metadata": {},
   "outputs": [],
   "source": [
    "# Import our modules\n",
    "from src.models.multibranch import MultiBranchModel\n",
    "from src.models.earlystop import EarlyStopping\n",
    "from src.models.trainer import train_epoch, validate\n",
    "from src.data.dataset import load_large_dataset\n",
    "from src.data.dataset import CustomTensorDataset"
   ]
  },
  {
   "cell_type": "code",
   "execution_count": 5,
   "metadata": {},
   "outputs": [
    {
     "name": "stdout",
     "output_type": "stream",
     "text": [
      "Using device: cuda\n"
     ]
    }
   ],
   "source": [
    "# Set device\n",
    "device = torch.device(\"cuda\" if torch.cuda.is_available() else \"cpu\")\n",
    "print(f\"Using device: {device}\")"
   ]
  },
  {
   "cell_type": "code",
   "execution_count": 6,
   "metadata": {},
   "outputs": [
    {
     "name": "stdout",
     "output_type": "stream",
     "text": [
      "\n",
      "Loading train_dataset...\n",
      "Loading corrected tensor...\n"
     ]
    },
    {
     "name": "stderr",
     "output_type": "stream",
     "text": [
      "c:\\Users\\Francisco\\Desktop\\Diversa\\projects\\EPN\\desarrollo\\volcanesML\\src\\data\\dataset.py:127: FutureWarning: You are using `torch.load` with `weights_only=False` (the current default value), which uses the default pickle module implicitly. It is possible to construct malicious pickle data which will execute arbitrary code during unpickling (See https://github.com/pytorch/pytorch/blob/main/SECURITY.md#untrusted-models for more details). In a future release, the default value for `weights_only` will be flipped to `True`. This limits the functions that could be executed during unpickling. Arbitrary objects will no longer be allowed to be loaded via this mode unless they are explicitly allowlisted by the user via `torch.serialization.add_safe_globals`. We recommend you start setting `weights_only=True` for any use case where you don't have full control of the loaded file. Please open an issue on GitHub for any issues related to this experimental feature.\n",
      "  corrected_tensor = torch.load(os.path.join(tensor_dir, 'corrected.pt'))\n"
     ]
    },
    {
     "name": "stdout",
     "output_type": "stream",
     "text": [
      "Corrected tensor loaded with 5619 samples.\n",
      "Loading edge tensor...\n"
     ]
    },
    {
     "name": "stderr",
     "output_type": "stream",
     "text": [
      "c:\\Users\\Francisco\\Desktop\\Diversa\\projects\\EPN\\desarrollo\\volcanesML\\src\\data\\dataset.py:131: FutureWarning: You are using `torch.load` with `weights_only=False` (the current default value), which uses the default pickle module implicitly. It is possible to construct malicious pickle data which will execute arbitrary code during unpickling (See https://github.com/pytorch/pytorch/blob/main/SECURITY.md#untrusted-models for more details). In a future release, the default value for `weights_only` will be flipped to `True`. This limits the functions that could be executed during unpickling. Arbitrary objects will no longer be allowed to be loaded via this mode unless they are explicitly allowlisted by the user via `torch.serialization.add_safe_globals`. We recommend you start setting `weights_only=True` for any use case where you don't have full control of the loaded file. Please open an issue on GitHub for any issues related to this experimental feature.\n",
      "  edge_tensor = torch.load(os.path.join(tensor_dir, 'edge.pt'))\n"
     ]
    },
    {
     "name": "stdout",
     "output_type": "stream",
     "text": [
      "Edge tensor loaded with 5619 samples.\n",
      "Loading threshold tensors...\n"
     ]
    },
    {
     "name": "stderr",
     "output_type": "stream",
     "text": [
      "c:\\Users\\Francisco\\Desktop\\Diversa\\projects\\EPN\\desarrollo\\volcanesML\\src\\data\\dataset.py:139: FutureWarning: You are using `torch.load` with `weights_only=False` (the current default value), which uses the default pickle module implicitly. It is possible to construct malicious pickle data which will execute arbitrary code during unpickling (See https://github.com/pytorch/pytorch/blob/main/SECURITY.md#untrusted-models for more details). In a future release, the default value for `weights_only` will be flipped to `True`. This limits the functions that could be executed during unpickling. Arbitrary objects will no longer be allowed to be loaded via this mode unless they are explicitly allowlisted by the user via `torch.serialization.add_safe_globals`. We recommend you start setting `weights_only=True` for any use case where you don't have full control of the loaded file. Please open an issue on GitHub for any issues related to this experimental feature.\n",
      "  threshold_tensors[level] = torch.load(os.path.join(threshold_dir, filename))\n"
     ]
    },
    {
     "name": "stdout",
     "output_type": "stream",
     "text": [
      "Threshold tensor 'high' loaded with 5619 samples.\n",
      "Threshold tensor 'low' loaded with 5619 samples.\n",
      "Threshold tensor 'medium' loaded with 5619 samples.\n",
      "Threshold tensor 'very_high' loaded with 5619 samples.\n",
      "Loading labels and metadata...\n",
      "Labels loaded with 5619 samples.\n",
      "train_dataset loaded successfully!\n",
      "\n",
      "Loading val_dataset...\n",
      "Loading corrected tensor...\n"
     ]
    },
    {
     "name": "stderr",
     "output_type": "stream",
     "text": [
      "c:\\Users\\Francisco\\Desktop\\Diversa\\projects\\EPN\\desarrollo\\volcanesML\\src\\data\\dataset.py:144: FutureWarning: You are using `torch.load` with `weights_only=False` (the current default value), which uses the default pickle module implicitly. It is possible to construct malicious pickle data which will execute arbitrary code during unpickling (See https://github.com/pytorch/pytorch/blob/main/SECURITY.md#untrusted-models for more details). In a future release, the default value for `weights_only` will be flipped to `True`. This limits the functions that could be executed during unpickling. Arbitrary objects will no longer be allowed to be loaded via this mode unless they are explicitly allowlisted by the user via `torch.serialization.add_safe_globals`. We recommend you start setting `weights_only=True` for any use case where you don't have full control of the loaded file. Please open an issue on GitHub for any issues related to this experimental feature.\n",
      "  metadata = torch.load(os.path.join(path, 'metadata.pt'))\n"
     ]
    },
    {
     "name": "stdout",
     "output_type": "stream",
     "text": [
      "Corrected tensor loaded with 1405 samples.\n",
      "Loading edge tensor...\n",
      "Edge tensor loaded with 1405 samples.\n",
      "Loading threshold tensors...\n",
      "Threshold tensor 'high' loaded with 1405 samples.\n",
      "Threshold tensor 'low' loaded with 1405 samples.\n",
      "Threshold tensor 'medium' loaded with 1405 samples.\n",
      "Threshold tensor 'very_high' loaded with 1405 samples.\n",
      "Loading labels and metadata...\n",
      "Labels loaded with 1405 samples.\n",
      "val_dataset loaded successfully!\n"
     ]
    }
   ],
   "source": [
    "# Load datasets\n",
    "project_root = os.path.abspath(os.path.join(os.getcwd(), '..'))\n",
    "train_data_dict = load_large_dataset(os.path.join(project_root, 'data', 'processed', 'train'), name=\"train_dataset\")\n",
    "val_data_dict = load_large_dataset(os.path.join(project_root, 'data', 'processed', 'val'), name=\"val_dataset\")"
   ]
  },
  {
   "cell_type": "code",
   "execution_count": 7,
   "metadata": {},
   "outputs": [],
   "source": [
    "# Wrap in CustomTensorDataset\n",
    "train_data = CustomTensorDataset(train_data_dict)\n",
    "val_data = CustomTensorDataset(val_data_dict)"
   ]
  },
  {
   "cell_type": "code",
   "execution_count": 8,
   "metadata": {},
   "outputs": [],
   "source": [
    "# Now create DataLoaders with the wrapped dataset objects\n",
    "batch_size = 250\n",
    "train_loader = DataLoader(train_data, batch_size=batch_size, shuffle=True)\n",
    "val_loader = DataLoader(val_data, batch_size=batch_size)"
   ]
  },
  {
   "cell_type": "code",
   "execution_count": 9,
   "metadata": {},
   "outputs": [
    {
     "name": "stdout",
     "output_type": "stream",
     "text": [
      "Training samples: 5619\n",
      "Validation samples: 1405\n",
      "\n",
      "Verifying data loading...\n",
      "\n",
      "Batch shapes:\n",
      "Corrected: torch.Size([250, 1, 480, 640])\n",
      "Edge: torch.Size([250, 1, 480, 640])\n",
      "Thresholds: torch.Size([250, 4, 480, 640])\n",
      "Labels: torch.Size([250])\n"
     ]
    }
   ],
   "source": [
    "# Verify dataset sizes\n",
    "print(f\"Training samples: {len(train_data)}\")\n",
    "print(f\"Validation samples: {len(val_data)}\")\n",
    "\n",
    "# Verify data loading with updated dimensions\n",
    "print(\"\\nVerifying data loading...\")\n",
    "for batch in train_loader:\n",
    "    print(\"\\nBatch shapes:\")\n",
    "    print(f\"Corrected: {batch['corrected'].shape}\")       # Should be [batch_size, 1, 480, 640]\n",
    "    print(f\"Edge: {batch['edge'].shape}\")                 # Should be [batch_size, 1, 480, 640]\n",
    "    print(f\"Thresholds: {batch['thresholds'].shape}\")     # Should be [batch_size, 4, 480, 640]\n",
    "    print(f\"Labels: {batch['label'].shape}\")              # Should be [batch_size]\n",
    "    break"
   ]
  },
  {
   "cell_type": "code",
   "execution_count": 10,
   "metadata": {},
   "outputs": [
    {
     "name": "stdout",
     "output_type": "stream",
     "text": [
      "\n",
      "Verifying tensor types...\n",
      "\n",
      "Batch dtypes:\n",
      "Corrected: torch.float32\n",
      "Edge: torch.float32\n",
      "Thresholds: torch.uint8\n",
      "Labels: torch.int64\n"
     ]
    }
   ],
   "source": [
    "# Verify tensor types\n",
    "print(\"\\nVerifying tensor types...\")\n",
    "for batch in train_loader:\n",
    "    print(\"\\nBatch dtypes:\")\n",
    "    print(f\"Corrected: {batch['corrected'].dtype}\")\n",
    "    print(f\"Edge: {batch['edge'].dtype}\")\n",
    "    print(f\"Thresholds: {batch['thresholds'].dtype}\")\n",
    "    print(f\"Labels: {batch['label'].dtype}\")\n",
    "    break"
   ]
  },
  {
   "cell_type": "code",
   "execution_count": 11,
   "metadata": {},
   "outputs": [
    {
     "name": "stdout",
     "output_type": "stream",
     "text": [
      "Expected input dimensions:\n",
      "Corrected & Edge branches: [batch_size, 1, 480, 640]\n",
      "Threshold branch: [batch_size, 4, 480, 640]\n"
     ]
    },
    {
     "name": "stderr",
     "output_type": "stream",
     "text": [
      "c:\\Users\\Francisco\\Desktop\\Diversa\\projects\\EPN\\desarrollo\\volcanesML\\volcanesML\\lib\\site-packages\\torch\\optim\\lr_scheduler.py:62: UserWarning: The verbose parameter is deprecated. Please use get_last_lr() to access the learning rate.\n",
      "  warnings.warn(\n"
     ]
    }
   ],
   "source": [
    "# Training setup\n",
    "n_classes = 3\n",
    "model = MultiBranchModel(n_classes, dropout_rate=0.6).to(device)\n",
    "\n",
    "# Add L2 regularization (weight decay)\n",
    "optimizer = optim.Adam(model.parameters(), lr=0.001, weight_decay=1e-4)\n",
    "criterion = nn.CrossEntropyLoss()\n",
    "\n",
    "# Add learning rate scheduler\n",
    "scheduler = ReduceLROnPlateau(optimizer, mode='min', factor=0.5, patience=3, verbose=True,  min_lr=1e-6)\n",
    "\n",
    "# Early stopping\n",
    "early_stopping = EarlyStopping(patience=7, min_delta=1e-4)"
   ]
  },
  {
   "cell_type": "code",
   "execution_count": 12,
   "metadata": {},
   "outputs": [
    {
     "name": "stdout",
     "output_type": "stream",
     "text": [
      "\n",
      "Starting training...\n",
      "\n",
      "Epoch 1/25\n"
     ]
    },
    {
     "name": "stderr",
     "output_type": "stream",
     "text": [
      "Training: 100%|██████████| 23/23 [01:42<00:00,  4.45s/it]\n",
      "Validating: 100%|██████████| 6/6 [00:12<00:00,  2.10s/it]\n"
     ]
    },
    {
     "name": "stdout",
     "output_type": "stream",
     "text": [
      "Train Loss: 0.9323, Train Acc: 49.67%\n",
      "Val Loss: 0.7543, Val Acc: 64.98%\n",
      "Learning Rate: 0.001000\n",
      "\n",
      "Epoch 2/25\n"
     ]
    },
    {
     "name": "stderr",
     "output_type": "stream",
     "text": [
      "Training: 100%|██████████| 23/23 [01:37<00:00,  4.26s/it]\n",
      "Validating: 100%|██████████| 6/6 [00:12<00:00,  2.09s/it]\n"
     ]
    },
    {
     "name": "stdout",
     "output_type": "stream",
     "text": [
      "Train Loss: 0.7552, Train Acc: 56.22%\n",
      "Val Loss: 0.6724, Val Acc: 68.33%\n",
      "Learning Rate: 0.001000\n",
      "\n",
      "Epoch 3/25\n"
     ]
    },
    {
     "name": "stderr",
     "output_type": "stream",
     "text": [
      "Training: 100%|██████████| 23/23 [01:36<00:00,  4.20s/it]\n",
      "Validating: 100%|██████████| 6/6 [00:12<00:00,  2.17s/it]\n"
     ]
    },
    {
     "name": "stdout",
     "output_type": "stream",
     "text": [
      "Train Loss: 0.6951, Train Acc: 62.80%\n",
      "Val Loss: 0.6347, Val Acc: 68.61%\n",
      "Learning Rate: 0.001000\n",
      "\n",
      "Epoch 4/25\n"
     ]
    },
    {
     "name": "stderr",
     "output_type": "stream",
     "text": [
      "Training: 100%|██████████| 23/23 [01:36<00:00,  4.20s/it]\n",
      "Validating: 100%|██████████| 6/6 [00:12<00:00,  2.10s/it]\n"
     ]
    },
    {
     "name": "stdout",
     "output_type": "stream",
     "text": [
      "Train Loss: 0.6521, Train Acc: 67.47%\n",
      "Val Loss: 0.5922, Val Acc: 72.67%\n",
      "Learning Rate: 0.001000\n",
      "\n",
      "Epoch 5/25\n"
     ]
    },
    {
     "name": "stderr",
     "output_type": "stream",
     "text": [
      "Training: 100%|██████████| 23/23 [01:36<00:00,  4.19s/it]\n",
      "Validating: 100%|██████████| 6/6 [00:12<00:00,  2.09s/it]\n"
     ]
    },
    {
     "name": "stdout",
     "output_type": "stream",
     "text": [
      "Train Loss: 0.6130, Train Acc: 71.38%\n",
      "Val Loss: 0.5263, Val Acc: 76.87%\n",
      "Learning Rate: 0.001000\n",
      "\n",
      "Epoch 6/25\n"
     ]
    },
    {
     "name": "stderr",
     "output_type": "stream",
     "text": [
      "Training: 100%|██████████| 23/23 [01:36<00:00,  4.20s/it]\n",
      "Validating: 100%|██████████| 6/6 [00:12<00:00,  2.10s/it]\n"
     ]
    },
    {
     "name": "stdout",
     "output_type": "stream",
     "text": [
      "Train Loss: 0.5523, Train Acc: 76.21%\n",
      "Val Loss: 0.5493, Val Acc: 71.89%\n",
      "Learning Rate: 0.001000\n",
      "\n",
      "Epoch 7/25\n"
     ]
    },
    {
     "name": "stderr",
     "output_type": "stream",
     "text": [
      "Training: 100%|██████████| 23/23 [01:36<00:00,  4.19s/it]\n",
      "Validating: 100%|██████████| 6/6 [00:12<00:00,  2.10s/it]\n"
     ]
    },
    {
     "name": "stdout",
     "output_type": "stream",
     "text": [
      "Train Loss: 0.4869, Train Acc: 80.21%\n",
      "Val Loss: 0.5214, Val Acc: 76.58%\n",
      "Learning Rate: 0.001000\n",
      "\n",
      "Epoch 8/25\n"
     ]
    },
    {
     "name": "stderr",
     "output_type": "stream",
     "text": [
      "Training: 100%|██████████| 23/23 [01:36<00:00,  4.20s/it]\n",
      "Validating: 100%|██████████| 6/6 [00:12<00:00,  2.16s/it]\n"
     ]
    },
    {
     "name": "stdout",
     "output_type": "stream",
     "text": [
      "Train Loss: 0.4224, Train Acc: 83.22%\n",
      "Val Loss: 0.3498, Val Acc: 85.98%\n",
      "Learning Rate: 0.001000\n",
      "\n",
      "Epoch 9/25\n"
     ]
    },
    {
     "name": "stderr",
     "output_type": "stream",
     "text": [
      "Training: 100%|██████████| 23/23 [01:37<00:00,  4.23s/it]\n",
      "Validating: 100%|██████████| 6/6 [00:12<00:00,  2.13s/it]\n"
     ]
    },
    {
     "name": "stdout",
     "output_type": "stream",
     "text": [
      "Train Loss: 0.3615, Train Acc: 86.31%\n",
      "Val Loss: 0.2835, Val Acc: 88.19%\n",
      "Learning Rate: 0.001000\n",
      "\n",
      "Epoch 10/25\n"
     ]
    },
    {
     "name": "stderr",
     "output_type": "stream",
     "text": [
      "Training: 100%|██████████| 23/23 [01:39<00:00,  4.33s/it]\n",
      "Validating: 100%|██████████| 6/6 [00:13<00:00,  2.22s/it]\n"
     ]
    },
    {
     "name": "stdout",
     "output_type": "stream",
     "text": [
      "Train Loss: 0.3310, Train Acc: 87.76%\n",
      "Val Loss: 0.2586, Val Acc: 90.39%\n",
      "Learning Rate: 0.001000\n",
      "\n",
      "Epoch 11/25\n"
     ]
    },
    {
     "name": "stderr",
     "output_type": "stream",
     "text": [
      "Training: 100%|██████████| 23/23 [01:37<00:00,  4.26s/it]\n",
      "Validating: 100%|██████████| 6/6 [00:12<00:00,  2.14s/it]\n"
     ]
    },
    {
     "name": "stdout",
     "output_type": "stream",
     "text": [
      "Train Loss: 0.2848, Train Acc: 89.23%\n",
      "Val Loss: 0.2019, Val Acc: 92.81%\n",
      "Learning Rate: 0.001000\n",
      "\n",
      "Epoch 12/25\n"
     ]
    },
    {
     "name": "stderr",
     "output_type": "stream",
     "text": [
      "Training: 100%|██████████| 23/23 [01:38<00:00,  4.27s/it]\n",
      "Validating: 100%|██████████| 6/6 [00:12<00:00,  2.15s/it]\n"
     ]
    },
    {
     "name": "stdout",
     "output_type": "stream",
     "text": [
      "Train Loss: 0.2732, Train Acc: 89.71%\n",
      "Val Loss: 0.1903, Val Acc: 92.53%\n",
      "Learning Rate: 0.001000\n",
      "\n",
      "Epoch 13/25\n"
     ]
    },
    {
     "name": "stderr",
     "output_type": "stream",
     "text": [
      "Training: 100%|██████████| 23/23 [01:38<00:00,  4.27s/it]\n",
      "Validating: 100%|██████████| 6/6 [00:12<00:00,  2.13s/it]\n"
     ]
    },
    {
     "name": "stdout",
     "output_type": "stream",
     "text": [
      "Train Loss: 0.2634, Train Acc: 89.93%\n",
      "Val Loss: 0.2073, Val Acc: 92.38%\n",
      "Learning Rate: 0.001000\n",
      "\n",
      "Epoch 14/25\n"
     ]
    },
    {
     "name": "stderr",
     "output_type": "stream",
     "text": [
      "Training: 100%|██████████| 23/23 [01:38<00:00,  4.27s/it]\n",
      "Validating: 100%|██████████| 6/6 [00:12<00:00,  2.14s/it]\n"
     ]
    },
    {
     "name": "stdout",
     "output_type": "stream",
     "text": [
      "Train Loss: 0.2480, Train Acc: 91.12%\n",
      "Val Loss: 0.3212, Val Acc: 87.40%\n",
      "Learning Rate: 0.001000\n",
      "\n",
      "Epoch 15/25\n"
     ]
    },
    {
     "name": "stderr",
     "output_type": "stream",
     "text": [
      "Training: 100%|██████████| 23/23 [01:37<00:00,  4.26s/it]\n",
      "Validating: 100%|██████████| 6/6 [00:12<00:00,  2.11s/it]\n"
     ]
    },
    {
     "name": "stdout",
     "output_type": "stream",
     "text": [
      "Train Loss: 0.2334, Train Acc: 91.28%\n",
      "Val Loss: 0.2669, Val Acc: 89.04%\n",
      "Learning Rate: 0.001000\n",
      "\n",
      "Epoch 16/25\n"
     ]
    },
    {
     "name": "stderr",
     "output_type": "stream",
     "text": [
      "Training: 100%|██████████| 23/23 [01:58<00:00,  5.15s/it]\n",
      "Validating: 100%|██████████| 6/6 [00:17<00:00,  2.88s/it]\n"
     ]
    },
    {
     "name": "stdout",
     "output_type": "stream",
     "text": [
      "Train Loss: 0.2122, Train Acc: 92.12%\n",
      "Val Loss: 0.1531, Val Acc: 94.73%\n",
      "Learning Rate: 0.001000\n",
      "\n",
      "Epoch 17/25\n"
     ]
    },
    {
     "name": "stderr",
     "output_type": "stream",
     "text": [
      "Training: 100%|██████████| 23/23 [02:07<00:00,  5.56s/it]\n",
      "Validating: 100%|██████████| 6/6 [00:17<00:00,  2.89s/it]\n"
     ]
    },
    {
     "name": "stdout",
     "output_type": "stream",
     "text": [
      "Train Loss: 0.2033, Train Acc: 92.51%\n",
      "Val Loss: 0.1511, Val Acc: 94.38%\n",
      "Learning Rate: 0.001000\n",
      "\n",
      "Epoch 18/25\n"
     ]
    },
    {
     "name": "stderr",
     "output_type": "stream",
     "text": [
      "Training: 100%|██████████| 23/23 [02:10<00:00,  5.67s/it]\n",
      "Validating: 100%|██████████| 6/6 [00:18<00:00,  3.09s/it]\n"
     ]
    },
    {
     "name": "stdout",
     "output_type": "stream",
     "text": [
      "Train Loss: 0.1866, Train Acc: 93.24%\n",
      "Val Loss: 0.1717, Val Acc: 93.81%\n",
      "Learning Rate: 0.001000\n",
      "\n",
      "Epoch 19/25\n"
     ]
    },
    {
     "name": "stderr",
     "output_type": "stream",
     "text": [
      "Training: 100%|██████████| 23/23 [02:06<00:00,  5.52s/it]\n",
      "Validating: 100%|██████████| 6/6 [00:17<00:00,  2.85s/it]\n"
     ]
    },
    {
     "name": "stdout",
     "output_type": "stream",
     "text": [
      "Train Loss: 0.1761, Train Acc: 93.63%\n",
      "Val Loss: 0.1789, Val Acc: 92.38%\n",
      "Learning Rate: 0.001000\n",
      "\n",
      "Epoch 20/25\n"
     ]
    },
    {
     "name": "stderr",
     "output_type": "stream",
     "text": [
      "Training: 100%|██████████| 23/23 [02:06<00:00,  5.50s/it]\n",
      "Validating: 100%|██████████| 6/6 [00:18<00:00,  3.08s/it]\n"
     ]
    },
    {
     "name": "stdout",
     "output_type": "stream",
     "text": [
      "Train Loss: 0.1747, Train Acc: 93.86%\n",
      "Val Loss: 0.1380, Val Acc: 94.88%\n",
      "Learning Rate: 0.001000\n",
      "\n",
      "Epoch 21/25\n"
     ]
    },
    {
     "name": "stderr",
     "output_type": "stream",
     "text": [
      "Training: 100%|██████████| 23/23 [02:09<00:00,  5.63s/it]\n",
      "Validating: 100%|██████████| 6/6 [00:21<00:00,  3.57s/it]\n"
     ]
    },
    {
     "name": "stdout",
     "output_type": "stream",
     "text": [
      "Train Loss: 0.1796, Train Acc: 93.66%\n",
      "Val Loss: 0.2990, Val Acc: 87.90%\n",
      "Learning Rate: 0.001000\n",
      "\n",
      "Epoch 22/25\n"
     ]
    },
    {
     "name": "stderr",
     "output_type": "stream",
     "text": [
      "Training: 100%|██████████| 23/23 [02:19<00:00,  6.05s/it]\n",
      "Validating: 100%|██████████| 6/6 [00:17<00:00,  2.84s/it]\n"
     ]
    },
    {
     "name": "stdout",
     "output_type": "stream",
     "text": [
      "Train Loss: 0.1706, Train Acc: 93.91%\n",
      "Val Loss: 0.5966, Val Acc: 80.50%\n",
      "Learning Rate: 0.001000\n",
      "\n",
      "Epoch 23/25\n"
     ]
    },
    {
     "name": "stderr",
     "output_type": "stream",
     "text": [
      "Training: 100%|██████████| 23/23 [02:11<00:00,  5.70s/it]\n",
      "Validating: 100%|██████████| 6/6 [00:16<00:00,  2.82s/it]\n"
     ]
    },
    {
     "name": "stdout",
     "output_type": "stream",
     "text": [
      "Train Loss: 0.1652, Train Acc: 94.04%\n",
      "Val Loss: 0.2775, Val Acc: 89.47%\n",
      "Learning Rate: 0.001000\n",
      "\n",
      "Epoch 24/25\n"
     ]
    },
    {
     "name": "stderr",
     "output_type": "stream",
     "text": [
      "Training: 100%|██████████| 23/23 [02:04<00:00,  5.43s/it]\n",
      "Validating: 100%|██████████| 6/6 [00:16<00:00,  2.79s/it]\n"
     ]
    },
    {
     "name": "stdout",
     "output_type": "stream",
     "text": [
      "Train Loss: 0.1652, Train Acc: 93.77%\n",
      "Val Loss: 0.1243, Val Acc: 95.59%\n",
      "Learning Rate: 0.001000\n",
      "\n",
      "Epoch 25/25\n"
     ]
    },
    {
     "name": "stderr",
     "output_type": "stream",
     "text": [
      "Training: 100%|██████████| 23/23 [02:04<00:00,  5.43s/it]\n",
      "Validating: 100%|██████████| 6/6 [00:16<00:00,  2.79s/it]"
     ]
    },
    {
     "name": "stdout",
     "output_type": "stream",
     "text": [
      "Train Loss: 0.1564, Train Acc: 94.64%\n",
      "Val Loss: 0.1774, Val Acc: 92.88%\n",
      "Learning Rate: 0.001000\n",
      "\n",
      "Training complete!\n",
      "Best validation accuracy: 95.59%\n"
     ]
    },
    {
     "name": "stderr",
     "output_type": "stream",
     "text": [
      "\n"
     ]
    }
   ],
   "source": [
    "# Training loop\n",
    "print(\"\\nStarting training...\")\n",
    "train_losses, train_accs = [], []\n",
    "val_losses, val_accs = [], []\n",
    "best_val_acc = 0.0\n",
    "n_epochs = 25\n",
    "\n",
    "for epoch in range(n_epochs):\n",
    "    print(f\"\\nEpoch {epoch+1}/{n_epochs}\")\n",
    "    \n",
    "    # Train and validate\n",
    "    train_loss, train_acc = train_epoch(model, train_loader, criterion, optimizer, device)\n",
    "    val_loss, val_acc = validate(model, val_loader, criterion, device)\n",
    "    \n",
    "    # Learning rate scheduling\n",
    "    scheduler.step(val_loss)\n",
    "    \n",
    "    # Early stopping\n",
    "    early_stopping(val_loss)\n",
    "    \n",
    "    # Store metrics\n",
    "    train_losses.append(train_loss)\n",
    "    train_accs.append(train_acc)\n",
    "    val_losses.append(val_loss)\n",
    "    val_accs.append(val_acc)\n",
    "    \n",
    "    # Print statistics\n",
    "    print(f\"Train Loss: {train_loss:.4f}, Train Acc: {train_acc:.2f}%\")\n",
    "    print(f\"Val Loss: {val_loss:.4f}, Val Acc: {val_acc:.2f}%\")\n",
    "    print(f\"Learning Rate: {optimizer.param_groups[0]['lr']:.6f}\")\n",
    "    \n",
    "    # Save best model\n",
    "    if val_acc > best_val_acc:\n",
    "        best_val_acc = val_acc\n",
    "        torch.save({\n",
    "            'epoch': epoch,\n",
    "            'model_state_dict': model.state_dict(),\n",
    "            'optimizer_state_dict': optimizer.state_dict(),\n",
    "            'scheduler_state_dict': scheduler.state_dict(),\n",
    "            'val_acc': val_acc,\n",
    "            'val_loss': val_loss\n",
    "        }, os.path.join(project_root, 'data', 'processed', 'best_model.pt'))\n",
    "    \n",
    "    # Check early stopping\n",
    "    if early_stopping.early_stop:\n",
    "        print(\"Early stopping triggered\")\n",
    "        break\n",
    "\n",
    "print(\"\\nTraining complete!\")\n",
    "print(f\"Best validation accuracy: {best_val_acc:.2f}%\")"
   ]
  },
  {
   "cell_type": "code",
   "execution_count": 13,
   "metadata": {},
   "outputs": [
    {
     "data": {
      "image/png": "[encoded data removed]",
      "text/plain": [
       "<Figure size 1500x500 with 2 Axes>"
      ]
     },
     "metadata": {},
     "output_type": "display_data"
    }
   ],
   "source": [
    "# Plot training history with learning rate\n",
    "plt.figure(figsize=(15, 5))\n",
    "\n",
    "# Plot loss\n",
    "plt.subplot(1, 2, 1)\n",
    "plt.plot(train_losses, label='Train Loss')\n",
    "plt.plot(val_losses, label='Val Loss')\n",
    "plt.title('Training and Validation Loss')\n",
    "plt.xlabel('Epoch')\n",
    "plt.ylabel('Loss')\n",
    "plt.legend()\n",
    "\n",
    "# Plot accuracy\n",
    "plt.subplot(1, 2, 2)\n",
    "plt.plot(train_accs, label='Train Acc')\n",
    "plt.plot(val_accs, label='Val Acc')\n",
    "plt.title('Training and Validation Accuracy')\n",
    "plt.xlabel('Epoch')\n",
    "plt.ylabel('Accuracy (%)')\n",
    "plt.legend()\n",
    "\n",
    "\n",
    "plt.tight_layout()\n",
    "plt.show()"
   ]
  },
  {
   "cell_type": "code",
   "execution_count": 19,
   "metadata": {},
   "outputs": [
    {
     "data": {
      "image/png": "[encoded data removed]",
      "text/plain": [
       "<Figure size 800x600 with 2 Axes>"
      ]
     },
     "metadata": {},
     "output_type": "display_data"
    }
   ],
   "source": [
    "# Define label mapping\n",
    "label_mapping = {\n",
    "    'Despejado': 0,  # Clear\n",
    "    'Nublado': 1,    # Cloudy\n",
    "    'Emisiones': 2   # Emissions\n",
    "}\n",
    "class_names = list(label_mapping.keys())\n",
    "\n",
    "# Get predictions and true labels for the validation set\n",
    "all_preds = []\n",
    "all_labels = []\n",
    "model.eval()\n",
    "with torch.no_grad():\n",
    "    for batch in val_loader:\n",
    "        corrected = batch['corrected'].float().to(device)\n",
    "        edge = batch['edge'].float().to(device)\n",
    "        thresholds = batch['thresholds'].float().to(device)\n",
    "        labels = batch['label'].to(device)\n",
    "\n",
    "        outputs = model(corrected, edge, thresholds)\n",
    "        _, preds = outputs.max(1)\n",
    "        all_preds.extend(preds.cpu().numpy())\n",
    "        all_labels.extend(labels.cpu().numpy())\n",
    "\n",
    "# Generate confusion matrix\n",
    "cm = confusion_matrix(all_labels, all_preds)\n",
    "\n",
    "# Normalize confusion matrix by row (true labels) to get percentages\n",
    "cm_percentage = cm.astype('float') / cm.sum(axis=1)[:, np.newaxis] * 100\n",
    "\n",
    "# Plot confusion matrix with percentages\n",
    "fig, ax = plt.subplots(figsize=(8, 6))\n",
    "disp = ConfusionMatrixDisplay(confusion_matrix=cm_percentage, display_labels=class_names)\n",
    "disp.plot(cmap='Blues', values_format=\".2f\", ax=ax)\n",
    "plt.title(\"Matriz de Confusión - Set de Validación\")\n",
    "plt.xlabel(\"Estado volcánico Predicho\")\n",
    "plt.ylabel(\"Estado volcánico Real\")\n",
    "plt.show()"
   ]
  },
  {
   "cell_type": "code",
   "execution_count": null,
   "metadata": {},
   "outputs": [],
   "source": []
  }
 ],
 "metadata": {
  "kernelspec": {
   "display_name": "volcanesML",
   "language": "python",
   "name": "python3"
  },
  "language_info": {
   "codemirror_mode": {
    "name": "ipython",
    "version": 3
   },
   "file_extension": ".py",
   "mimetype": "text/x-python",
   "name": "python",
   "nbconvert_exporter": "python",
   "pygments_lexer": "ipython3",
   "version": "3.10.9"
  }
 },
 "nbformat": 4,
 "nbformat_minor": 2
}
