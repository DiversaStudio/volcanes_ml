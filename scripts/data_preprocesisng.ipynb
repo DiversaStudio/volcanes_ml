{
  "cells": [
    {
      "cell_type": "markdown",
      "metadata": {
        "id": "Q97b2ofTG05Q"
      },
      "source": [
        "INSTALACION DE LIBRERIA FLIRPY"
      ]
    },
    {
      "cell_type": "code",
      "execution_count": 15,
      "metadata": {
        "colab": {
          "base_uri": "https://localhost:8080/"
        },
        "id": "xqsmbfa_8_e5",
        "outputId": "037eaec8-9524-48e8-9215-168622ca387c"
      },
      "outputs": [
        {
          "name": "stdout",
          "output_type": "stream",
          "text": [
            "c:\\Users\\diana\\Documents\\Diversa\\epn\\volcanes_ml\\scripts\\flirpy\\flirpy\\flirpy\\flirpy\n"
          ]
        },
        {
          "name": "stderr",
          "output_type": "stream",
          "text": [
            "'DOSKEY' is not recognized as an internal or external command,\n",
            "operable program or batch file.\n",
            "Cloning into 'flirpy'...\n"
          ]
        },
        {
          "name": "stdout",
          "output_type": "stream",
          "text": [
            "Collecting pyserial\n",
            "  Using cached pyserial-3.5-py2.py3-none-any.whl (90 kB)\n",
            "Collecting opencv-python-headless\n",
            "  Using cached opencv_python_headless-4.10.0.84-cp37-abi3-win_amd64.whl (38.8 MB)\n",
            "Requirement already satisfied: tqdm>4.29 in c:\\users\\diana\\anaconda3\\lib\\site-packages (from -r requirements.txt (line 3)) (4.65.0)\n",
            "Requirement already satisfied: numpy in c:\\users\\diana\\anaconda3\\lib\\site-packages (from -r requirements.txt (line 4)) (1.24.3)\n",
            "Collecting pyudev\n",
            "  Using cached pyudev-0.24.3-py3-none-any.whl (62 kB)\n",
            "Requirement already satisfied: psutil in c:\\users\\diana\\anaconda3\\lib\\site-packages (from -r requirements.txt (line 6)) (5.9.0)\n",
            "Collecting libusb\n",
            "  Using cached libusb-1.0.27-py3-none-any.whl (581 kB)\n",
            "Collecting pyusb\n",
            "  Using cached pyusb-1.2.1-py3-none-any.whl (58 kB)\n",
            "Collecting pyftdi\n",
            "  Using cached pyftdi-0.55.4-py3-none-any.whl (145 kB)\n",
            "Collecting natsort\n",
            "  Using cached natsort-8.4.0-py3-none-any.whl (38 kB)\n",
            "Requirement already satisfied: Pillow in c:\\users\\diana\\anaconda3\\lib\\site-packages (from -r requirements.txt (line 11)) (9.4.0)\n",
            "Requirement already satisfied: colorama in c:\\users\\diana\\anaconda3\\lib\\site-packages (from tqdm>4.29->-r requirements.txt (line 3)) (0.4.6)\n"
          ]
        },
        {
          "name": "stderr",
          "output_type": "stream",
          "text": [
            "'DOSKEY' is not recognized as an internal or external command,\n",
            "operable program or batch file.\n",
            "ERROR: Could not install packages due to an OSError: [Errno 2] No such file or directory: 'c:\\\\users\\\\diana\\\\anaconda3\\\\lib\\\\site-packages\\\\numpy-1.24.3.dist-info\\\\METADATA'\n",
            "\n"
          ]
        },
        {
          "name": "stdout",
          "output_type": "stream",
          "text": [
            "Processing c:\\users\\diana\\documents\\diversa\\epn\\volcanes_ml\\scripts\\flirpy\\flirpy\\flirpy\\flirpy\n",
            "  Installing build dependencies: started\n",
            "  Installing build dependencies: finished with status 'done'\n",
            "  Getting requirements to build wheel: started\n",
            "  Getting requirements to build wheel: finished with status 'done'\n",
            "  Preparing metadata (pyproject.toml): started\n",
            "  Preparing metadata (pyproject.toml): finished with status 'done'\n",
            "Building wheels for collected packages: flirpy\n",
            "  Building wheel for flirpy (pyproject.toml): started\n",
            "  Building wheel for flirpy (pyproject.toml): finished with status 'done'\n",
            "  Created wheel for flirpy: filename=flirpy-0.4.0-py3-none-any.whl size=10188306 sha256=e2799aa8e98b15c25a42db285f89c40b08f2d8627e2212ec8e3466f37264b115\n",
            "  Stored in directory: C:\\Users\\diana\\AppData\\Local\\Temp\\pip-ephem-wheel-cache-xnrsw912\\wheels\\8e\\e4\\90\\31614807abc42b6c69ab8e47997df895512b501a6433fff968\n",
            "Successfully built flirpy\n",
            "Installing collected packages: flirpy\n",
            "  Attempting uninstall: flirpy\n",
            "    Found existing installation: flirpy 0.4.0\n",
            "    Uninstalling flirpy-0.4.0:\n",
            "      Successfully uninstalled flirpy-0.4.0\n",
            "Successfully installed flirpy-0.4.0\n"
          ]
        },
        {
          "name": "stderr",
          "output_type": "stream",
          "text": [
            "'DOSKEY' is not recognized as an internal or external command,\n",
            "operable program or batch file.\n",
            "WARNING: Error parsing requirements for numpy: [Errno 2] No such file or directory: 'c:\\\\users\\\\diana\\\\anaconda3\\\\lib\\\\site-packages\\\\numpy-1.24.3.dist-info\\\\METADATA'\n"
          ]
        }
      ],
      "source": [
        "# Clonar el repositorio\n",
        "!git clone https://github.com/LJMUAstroecology/flirpy.git\n",
        "%cd flirpy\n",
        "\n",
        "# Instalar las dependencias\n",
        "!pip install -r requirements.txt\n",
        "\n",
        "# Instalar la librería localmente\n",
        "!pip install ."
      ]
    },
    {
      "cell_type": "markdown",
      "metadata": {
        "id": "abD0sXJZG5Sr"
      },
      "source": [
        "DECODE METADATA DE LOS ARCHIVOS .fff\n"
      ]
    },
    {
      "cell_type": "code",
      "execution_count": null,
      "metadata": {},
      "outputs": [],
      "source": [
        "import matplotlib.pyplot as plt\n",
        "import pandas as pd\n",
        "from flirpy.io.fff import Fff\n",
        "import numpy as np"
      ]
    },
    {
      "cell_type": "code",
      "execution_count": null,
      "metadata": {},
      "outputs": [],
      "source": [
        "# Lista de rutas de archivos FFF\n",
        "file_paths = [\n",
        "    'your_path\\\\CTP_RUMHIR_20231208_0900.fff',\n",
        "    'your_path\\\\CTP_RUMHIR_20231208_0905.fff'\n",
        "]"
      ]
    },
    {
      "cell_type": "code",
      "execution_count": null,
      "metadata": {},
      "outputs": [],
      "source": [
        "metadata_list = []\n",
        "\n",
        "for i, file_path in enumerate(file_paths):\n",
        "    # Cargar un archivo FFF\n",
        "    fff_reader = Fff(file_path)\n",
        "\n",
        "    # Leer la imagen térmica\n",
        "    thermal_image = fff_reader.get_image()\n",
        "\n",
        "    # Extraer la metadata\n",
        "    metadata = fff_reader.meta\n",
        "    metadata['file_path'] = file_path\n",
        "    metadata_list.append(metadata)"
      ]
    },
    {
      "cell_type": "code",
      "execution_count": null,
      "metadata": {},
      "outputs": [],
      "source": [
        "# Obtener el rango de temperatura de la metadata\n",
        "    min_temp = float(metadata['CameraTemperatureRangeMin'])\n",
        "    max_temp = float(metadata['CameraTemperatureRangeMax'])\n",
        "\n",
        "    # Normalizar la imagen térmica al rango de temperatura conocido\n",
        "    thermal_image_normalized = (thermal_image - thermal_image.min()) / (thermal_image.max() - thermal_image.min())\n",
        "    thermal_image_celsius = thermal_image_normalized * (max_temp - min_temp) + min_temp\n",
        "\n",
        "    # Crear una nueva figura para cada imagen térmica\n",
        "    plt.figure(figsize=(6, 5))\n",
        "    plt.imshow(thermal_image_celsius, cmap='inferno', vmin=min_temp, vmax=max_temp)\n",
        "    plt.colorbar(label='Temperatura (°C)')\n",
        "    plt.title(f'Imagen Térmica {i+1}')\n",
        "    plt.xlabel('Pixel X')\n",
        "    plt.ylabel('Pixel Y')\n",
        "    plt.show()"
      ]
    },
    {
      "cell_type": "code",
      "execution_count": null,
      "metadata": {},
      "outputs": [],
      "source": [
        "# Convertir la lista de diccionarios en un dataframe\n",
        "df_metadata = pd.DataFrame(metadata_list)\n",
        "\n",
        "# Mostrar el dataframe\n",
        "df_metadata.head()"
      ]
    }
  ],
  "metadata": {
    "colab": {
      "provenance": []
    },
    "kernelspec": {
      "display_name": "Python 3",
      "name": "python3"
    },
    "language_info": {
      "codemirror_mode": {
        "name": "ipython",
        "version": 3
      },
      "file_extension": ".py",
      "mimetype": "text/x-python",
      "name": "python",
      "nbconvert_exporter": "python",
      "pygments_lexer": "ipython3",
      "version": "3.10.7"
    }
  },
  "nbformat": 4,
  "nbformat_minor": 0
}
