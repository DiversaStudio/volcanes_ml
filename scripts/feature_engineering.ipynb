{
 "cells": [
  {
   "cell_type": "markdown",
   "metadata": {},
   "source": [
    "Overlay image with border over image with temperature"
   ]
  },
  {
   "cell_type": "code",
   "execution_count": 1,
   "metadata": {},
   "outputs": [],
   "source": [
    "from PIL import Image"
   ]
  },
  {
   "cell_type": "code",
   "execution_count": 31,
   "metadata": {},
   "outputs": [
    {
     "name": "stdout",
     "output_type": "stream",
     "text": [
      "Combined image saved to: combined_output.png\n"
     ]
    }
   ],
   "source": [
    "from PIL import Image, ImageOps, ImageChops, ImageDraw\n",
    "import numpy as np\n",
    "import cv2\n",
    "import numpy as np\n",
    "\n",
    "def overlay_2(image_path1, image_path2):\n",
    "\n",
    "    # Load the contour image (grayscale)\n",
    "    contour_image = cv2.imread(image_path1, cv2.IMREAD_GRAYSCALE)\n",
    "\n",
    "    # Load the second image (colored)\n",
    "    base_image = cv2.imread(image_path2)\n",
    "\n",
    "    # Create a binary mask where the contour is detected (non-white areas)\n",
    "    _, mask = cv2.threshold(contour_image, 1, 255, cv2.THRESH_BINARY)\n",
    "\n",
    "    # Invert the mask to get the area above the contour\n",
    "    mask_inv = cv2.bitwise_not(mask)\n",
    "\n",
    "    # Apply the inverted mask on the contour image to make every pixel above the border black\n",
    "    contour_image_black = cv2.bitwise_and(contour_image, contour_image, mask=mask)\n",
    "\n",
    "    # Convert the contour image to BGR (3-channel) so it matches the base image\n",
    "    contour_image_black_bgr = cv2.cvtColor(contour_image_black, cv2.COLOR_GRAY2BGR)\n",
    "\n",
    "    # Use the mask to combine the contour image and the base image\n",
    "    combined_image = cv2.bitwise_and(base_image, base_image, mask=mask_inv)\n",
    "    combined_image += contour_image_black_bgr\n",
    "\n",
    "    # Save the final image\n",
    "    output_path = 'combined_output.png'\n",
    "    cv2.imwrite(output_path, combined_image)\n",
    "\n",
    "    print(f\"Combined image saved to: {output_path}\")\n",
    "\n",
    "\n",
    "\n",
    "overlay_2(\"overlay/contour.png\", \"overlay/temp.png\")"
   ]
  }
 ],
 "metadata": {
  "kernelspec": {
   "display_name": ".venv",
   "language": "python",
   "name": "python3"
  },
  "language_info": {
   "codemirror_mode": {
    "name": "ipython",
    "version": 3
   },
   "file_extension": ".py",
   "mimetype": "text/x-python",
   "name": "python",
   "nbconvert_exporter": "python",
   "pygments_lexer": "ipython3",
   "version": "3.11.5"
  }
 },
 "nbformat": 4,
 "nbformat_minor": 2
}
