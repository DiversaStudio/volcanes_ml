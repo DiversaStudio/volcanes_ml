{
 "cells": [
  {
   "cell_type": "markdown",
   "metadata": {},
   "source": [
    "# Image Processing and Normalization\n",
    "![](2024-08-14-18-03-16.png)\n",
    "## Author: Diversa\n",
    "## Project: Volcanes_ML\n",
    "## Contact: hello@diversa.studio\n",
    "---"
   ]
  },
  {
   "cell_type": "code",
   "execution_count": 1,
   "metadata": {},
   "outputs": [
    {
     "name": "stdout",
     "output_type": "stream",
     "text": [
      "Requirement already satisfied: albumentations in c:\\users\\sedig\\appdata\\local\\programs\\python\\python312\\lib\\site-packages (1.4.14)\n",
      "Requirement already satisfied: opencv-python in c:\\users\\sedig\\appdata\\roaming\\python\\python312\\site-packages (4.10.0.84)\n",
      "Requirement already satisfied: numpy>=1.24.4 in c:\\users\\sedig\\appdata\\local\\programs\\python\\python312\\lib\\site-packages (from albumentations) (1.26.4)\n",
      "Requirement already satisfied: scipy>=1.10.0 in c:\\users\\sedig\\appdata\\local\\programs\\python\\python312\\lib\\site-packages (from albumentations) (1.13.1)\n",
      "Requirement already satisfied: scikit-image>=0.21.0 in c:\\users\\sedig\\appdata\\local\\programs\\python\\python312\\lib\\site-packages (from albumentations) (0.24.0)\n",
      "Requirement already satisfied: PyYAML in c:\\users\\sedig\\appdata\\local\\programs\\python\\python312\\lib\\site-packages (from albumentations) (6.0.1)\n",
      "Requirement already satisfied: typing-extensions>=4.9.0 in c:\\users\\sedig\\appdata\\local\\programs\\python\\python312\\lib\\site-packages (from albumentations) (4.12.2)\n",
      "Requirement already satisfied: pydantic>=2.7.0 in c:\\users\\sedig\\appdata\\local\\programs\\python\\python312\\lib\\site-packages (from albumentations) (2.8.2)\n",
      "Requirement already satisfied: albucore>=0.0.13 in c:\\users\\sedig\\appdata\\local\\programs\\python\\python312\\lib\\site-packages (from albumentations) (0.0.13)\n",
      "Requirement already satisfied: eval-type-backport in c:\\users\\sedig\\appdata\\local\\programs\\python\\python312\\lib\\site-packages (from albumentations) (0.2.0)\n",
      "Requirement already satisfied: opencv-python-headless>=4.9.0.80 in c:\\users\\sedig\\appdata\\local\\programs\\python\\python312\\lib\\site-packages (from albumentations) (4.10.0.84)\n",
      "Requirement already satisfied: tomli>=2.0.1 in c:\\users\\sedig\\appdata\\local\\programs\\python\\python312\\lib\\site-packages (from albucore>=0.0.13->albumentations) (2.0.1)\n",
      "Requirement already satisfied: annotated-types>=0.4.0 in c:\\users\\sedig\\appdata\\local\\programs\\python\\python312\\lib\\site-packages (from pydantic>=2.7.0->albumentations) (0.7.0)\n",
      "Requirement already satisfied: pydantic-core==2.20.1 in c:\\users\\sedig\\appdata\\local\\programs\\python\\python312\\lib\\site-packages (from pydantic>=2.7.0->albumentations) (2.20.1)\n",
      "Requirement already satisfied: networkx>=2.8 in c:\\users\\sedig\\appdata\\local\\programs\\python\\python312\\lib\\site-packages (from scikit-image>=0.21.0->albumentations) (3.3)\n",
      "Requirement already satisfied: pillow>=9.1 in c:\\users\\sedig\\appdata\\local\\programs\\python\\python312\\lib\\site-packages (from scikit-image>=0.21.0->albumentations) (10.4.0)\n",
      "Requirement already satisfied: imageio>=2.33 in c:\\users\\sedig\\appdata\\local\\programs\\python\\python312\\lib\\site-packages (from scikit-image>=0.21.0->albumentations) (2.34.2)\n",
      "Requirement already satisfied: tifffile>=2022.8.12 in c:\\users\\sedig\\appdata\\local\\programs\\python\\python312\\lib\\site-packages (from scikit-image>=0.21.0->albumentations) (2024.7.24)\n",
      "Requirement already satisfied: packaging>=21 in c:\\users\\sedig\\appdata\\roaming\\python\\python312\\site-packages (from scikit-image>=0.21.0->albumentations) (24.1)\n",
      "Requirement already satisfied: lazy-loader>=0.4 in c:\\users\\sedig\\appdata\\local\\programs\\python\\python312\\lib\\site-packages (from scikit-image>=0.21.0->albumentations) (0.4)\n",
      "c:\\Users\\sedig\\OneDrive\\Escritorio\\DIVERSA\\VOLCANES\\volcanes_ml\\scripts\\flirpy\n"
     ]
    },
    {
     "name": "stderr",
     "output_type": "stream",
     "text": [
      "C:\\Users\\sedig\\AppData\\Roaming\\Python\\Python312\\site-packages\\IPython\\core\\magics\\osm.py:417: UserWarning: This is now an optional IPython functionality, setting dhist requires you to install the `pickleshare` library.\n",
      "  self.shell.db['dhist'] = compress_dhist(dhist)[-100:]\n"
     ]
    },
    {
     "name": "stdout",
     "output_type": "stream",
     "text": [
      "Requirement already satisfied: pyserial in c:\\users\\sedig\\appdata\\local\\programs\\python\\python312\\lib\\site-packages (from -r requirements.txt (line 1)) (3.5)\n",
      "Requirement already satisfied: opencv-python-headless in c:\\users\\sedig\\appdata\\local\\programs\\python\\python312\\lib\\site-packages (from -r requirements.txt (line 2)) (4.10.0.84)\n",
      "Requirement already satisfied: tqdm>4.29 in c:\\users\\sedig\\appdata\\local\\programs\\python\\python312\\lib\\site-packages (from -r requirements.txt (line 3)) (4.66.4)\n",
      "Requirement already satisfied: numpy in c:\\users\\sedig\\appdata\\local\\programs\\python\\python312\\lib\\site-packages (from -r requirements.txt (line 4)) (1.26.4)\n",
      "Requirement already satisfied: pyudev in c:\\users\\sedig\\appdata\\local\\programs\\python\\python312\\lib\\site-packages (from -r requirements.txt (line 5)) (0.24.3)\n",
      "Requirement already satisfied: psutil in c:\\users\\sedig\\appdata\\roaming\\python\\python312\\site-packages (from -r requirements.txt (line 6)) (6.0.0)\n",
      "Requirement already satisfied: libusb in c:\\users\\sedig\\appdata\\local\\programs\\python\\python312\\lib\\site-packages (from -r requirements.txt (line 7)) (1.0.27)\n",
      "Requirement already satisfied: pyusb in c:\\users\\sedig\\appdata\\local\\programs\\python\\python312\\lib\\site-packages (from -r requirements.txt (line 8)) (1.2.1)\n",
      "Requirement already satisfied: pyftdi in c:\\users\\sedig\\appdata\\local\\programs\\python\\python312\\lib\\site-packages (from -r requirements.txt (line 9)) (0.55.4)\n",
      "Requirement already satisfied: natsort in c:\\users\\sedig\\appdata\\local\\programs\\python\\python312\\lib\\site-packages (from -r requirements.txt (line 10)) (8.4.0)\n",
      "Requirement already satisfied: Pillow in c:\\users\\sedig\\appdata\\local\\programs\\python\\python312\\lib\\site-packages (from -r requirements.txt (line 11)) (10.4.0)\n",
      "Requirement already satisfied: colorama in c:\\users\\sedig\\appdata\\roaming\\python\\python312\\site-packages (from tqdm>4.29->-r requirements.txt (line 3)) (0.4.6)\n",
      "Requirement already satisfied: setuptools>=68.2.2 in c:\\users\\sedig\\appdata\\local\\programs\\python\\python312\\lib\\site-packages (from libusb->-r requirements.txt (line 7)) (72.1.0)\n",
      "Requirement already satisfied: pkg-about>=1.1.5 in c:\\users\\sedig\\appdata\\local\\programs\\python\\python312\\lib\\site-packages (from libusb->-r requirements.txt (line 7)) (1.1.7)\n",
      "Requirement already satisfied: packaging>=24.1.0 in c:\\users\\sedig\\appdata\\roaming\\python\\python312\\site-packages (from pkg-about>=1.1.5->libusb->-r requirements.txt (line 7)) (24.1)\n",
      "Processing c:\\users\\sedig\\onedrive\\escritorio\\diversa\\volcanes\\volcanes_ml\\scripts\\flirpy\n",
      "  Installing build dependencies: started\n",
      "  Installing build dependencies: finished with status 'done'\n",
      "  Getting requirements to build wheel: started\n",
      "  Getting requirements to build wheel: finished with status 'done'\n",
      "  Preparing metadata (pyproject.toml): started\n",
      "  Preparing metadata (pyproject.toml): finished with status 'done'\n",
      "Building wheels for collected packages: flirpy\n",
      "  Building wheel for flirpy (pyproject.toml): started\n",
      "  Building wheel for flirpy (pyproject.toml): finished with status 'done'\n",
      "  Created wheel for flirpy: filename=flirpy-0.4.0-py3-none-any.whl size=10188308 sha256=266f7b068f1b0e8c43cec117d2586e20878217fa0c5526c6c01d780eb70e07be\n",
      "  Stored in directory: C:\\Users\\sedig\\AppData\\Local\\Temp\\pip-ephem-wheel-cache-usc2lfdm\\wheels\\37\\cc\\8f\\eda4fac8eac05978d3e38b0325993a4b44f1dc09ab63538b2c\n",
      "Successfully built flirpy\n",
      "Installing collected packages: flirpy\n",
      "  Attempting uninstall: flirpy\n",
      "    Found existing installation: flirpy 0.4.0\n",
      "    Uninstalling flirpy-0.4.0:\n",
      "      Successfully uninstalled flirpy-0.4.0\n",
      "Successfully installed flirpy-0.4.0\n"
     ]
    }
   ],
   "source": [
    "!pip install -U albumentations opencv-python\n",
    "\n",
    "%cd flirpy\n",
    "# Install the dependencies\n",
    "!pip install -r requirements.txt\n",
    "\n",
    "# Install the library locally\n",
    "!pip install .\n"
   ]
  },
  {
   "cell_type": "code",
   "execution_count": 2,
   "metadata": {},
   "outputs": [
    {
     "name": "stdout",
     "output_type": "stream",
     "text": [
      "^C\n"
     ]
    }
   ],
   "source": [
    "!pip uninstall transformers"
   ]
  },
  {
   "cell_type": "code",
   "execution_count": null,
   "metadata": {},
   "outputs": [],
   "source": [
    "%pip install transformers==4.12.5\n"
   ]
  },
  {
   "cell_type": "code",
   "execution_count": null,
   "metadata": {},
   "outputs": [],
   "source": [
    "%pip install matplotlib\n",
    "%pip install pandas\n",
    "%pip install numpy\n",
    "import matplotlib.pyplot as plt\n",
    "import pandas as pd\n",
    "from flirpy.io.fff import Fff\n",
    "import numpy as np\n",
    "import  os\n",
    "import torch\n",
    "from transformers import SegFormerFeatureExtractor, SegFormerForSemanticSegmentation"
   ]
  },
  {
   "cell_type": "code",
   "execution_count": 6,
   "metadata": {},
   "outputs": [],
   "source": [
    "root_dir = \"C:/Users/sedig/OneDrive/Escritorio/DIVERSA/VOLCANES/volcanes_ml/Cotopaxi\"\n",
    "\n",
    "# Define the output root directory for PNG files\n",
    "output_root_dir = 'C:/Users/sedig/OneDrive/Escritorio/DIVERSA/VOLCANES/volcanes_ml/out_norm_png'\n",
    "\n",
    "# Walk through the directory tree\n",
    "for subdir, dirs, files in os.walk(root_dir):\n",
    "    for file in files:\n",
    "        if file.endswith('.fff'):\n",
    "            file_path = os.path.join(subdir, file)\n",
    "\n",
    "            try:\n",
    "                # Load an FFF file\n",
    "                fff_reader = Fff(file_path)\n",
    "\n",
    "                # Read the thermal image\n",
    "                thermal_image = fff_reader.get_image()\n",
    "\n",
    "                # Normalize the thermal image\n",
    "                thermal_image_normalized = (thermal_image - thermal_image.min()) / (thermal_image.max() - thermal_image.min())\n",
    "\n",
    "                # Create the corresponding output directory structure\n",
    "                relative_path = os.path.relpath(subdir, root_dir)\n",
    "                output_dir = os.path.join(output_root_dir, relative_path + '_png')\n",
    "                os.makedirs(output_dir, exist_ok=True)\n",
    "\n",
    "                # Save the PNG file in the output directory\n",
    "                output_file_path = os.path.join(output_dir, f\"{os.path.splitext(file)[0]}.png\")\n",
    "                plt.imshow(thermal_image_normalized, cmap='inferno')\n",
    "                plt.axis('off')  # Remove the axes\n",
    "                plt.savefig(output_file_path, bbox_inches='tight', pad_inches=0)\n",
    "                plt.close()\n",
    "\n",
    "            except Exception as e:\n",
    "                print(f\"Error processing {file_path}: {e}\")\n"
   ]
  },
  {
   "cell_type": "code",
   "execution_count": null,
   "metadata": {},
   "outputs": [],
   "source": [
    "feature_extractor = SegFormerFeatureExtractor.from_pretrained('nvidia/segformer-b0-finetuned-airbus')\n",
    "model = SegFormerForSemanticSegmentation.from_pretrained('nvidia/segformer-b0-finetuned-airbus')\n",
    "\n",
    "def process_image(image_path, output_dir):\n",
    "    # Load the image\n",
    "    image = Image.open(image_path).convert(\"RGB\")  # Ensure it's in RGB mode\n",
    "\n",
    "    # Preprocess the image\n",
    "    inputs = feature_extractor(images=image, return_tensors=\"pt\")\n",
    "\n",
    "    # Perform segmentation\n",
    "    outputs = model(**inputs)\n",
    "    logits = outputs.logits\n",
    "    segmentation = torch.argmax(logits, dim=1)[0]\n",
    "\n",
    "    # Convert segmentation to a numpy array\n",
    "    segmentation = segmentation.numpy()\n",
    "\n",
    "    # Assuming you know the label IDs for sky and mountain/volcano\n",
    "    sky_label = 12  # Example label ID for sky\n",
    "    mountain_label = 21  # Example label ID for mountain/volcano\n",
    "\n",
    "    # Create masks\n",
    "    sky_mask = (segmentation == sky_label)\n",
    "    mountain_mask = (segmentation == mountain_label)\n",
    "\n",
    "    # Apply the masks to the original image\n",
    "    sky_image = np.array(image) * np.expand_dims(sky_mask, axis=-1)\n",
    "    mountain_image = np.array(image) * np.expand_dims(mountain_mask, axis=-1)\n",
    "\n",
    "    # Combine masks for the overlay\n",
    "    combined_mask = sky_mask | mountain_mask\n",
    "    combined_image = np.array(image) * np.expand_dims(combined_mask, axis=-1)\n",
    "\n",
    "    # Convert back to Image for saving\n",
    "    sky_image = Image.fromarray(sky_image.astype(np.uint8))\n",
    "    mountain_image = Image.fromarray(mountain_image.astype(np.uint8))\n",
    "    combined_image = Image.fromarray(combined_image.astype(np.uint8))\n",
    "\n",
    "    # Define output paths\n",
    "    base_name = os.path.splitext(os.path.basename(image_path))[0]\n",
    "    sky_output_path = os.path.join(output_dir, f\"{base_name}_sky.png\")\n",
    "    mountain_output_path = os.path.join(output_dir, f\"{base_name}_mountain.png\")\n",
    "    combined_output_path = os.path.join(output_dir, f\"{base_name}_combined.png\")\n",
    "\n",
    "    # Save the segmented images\n",
    "    sky_image.save(sky_output_path)\n",
    "    mountain_image.save(mountain_output_path)\n",
    "    combined_image.save(combined_output_path)\n",
    "\n",
    "    print(f\"Processed {image_path}: saved sky to {sky_output_path}, mountain to {mountain_output_path}, and combined to {combined_output_path}\")"
   ]
  },
  {
   "cell_type": "code",
   "execution_count": null,
   "metadata": {},
   "outputs": [],
   "source": [
    "def process_directory(root_dir, output_dir)\n",
    "    os.makedirs(output_dir, exist_ok=True)\n",
    "    \n",
    "    for subdir, _, files in os.walk(root_dir):\n",
    "        for file in files:\n",
    "            if file.endswith('.png'):\n",
    "                file_path = os.path.join(subdir, file)\n",
    "                process_image(file_path, output_dir)"
   ]
  },
  {
   "cell_type": "code",
   "execution_count": null,
   "metadata": {},
   "outputs": [],
   "source": [
    "root_dir = ''\n",
    "output_dir = ''\n",
    "process_directory(root_dir, output_dir)"
   ]
  }
 ],
 "metadata": {
  "kernelspec": {
   "display_name": "Python 3",
   "language": "python",
   "name": "python3"
  },
  "language_info": {
   "codemirror_mode": {
    "name": "ipython",
    "version": 3
   },
   "file_extension": ".py",
   "mimetype": "text/x-python",
   "name": "python",
   "nbconvert_exporter": "python",
   "pygments_lexer": "ipython3",
   "version": "3.12.5"
  }
 },
 "nbformat": 4,
 "nbformat_minor": 2
}
